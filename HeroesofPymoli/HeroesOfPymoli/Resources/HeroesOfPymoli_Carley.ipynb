{
 "cells": [
  {
   "cell_type": "markdown",
   "metadata": {},
   "source": [
    "### Note\n",
    "* Instructions have been included for each segment. You do not have to follow them exactly, but they are included to help you think through the steps."
   ]
  },
  {
   "cell_type": "code",
   "execution_count": 15,
   "metadata": {},
   "outputs": [
    {
     "data": {
      "text/html": [
       "<div>\n",
       "<style scoped>\n",
       "    .dataframe tbody tr th:only-of-type {\n",
       "        vertical-align: middle;\n",
       "    }\n",
       "\n",
       "    .dataframe tbody tr th {\n",
       "        vertical-align: top;\n",
       "    }\n",
       "\n",
       "    .dataframe thead th {\n",
       "        text-align: right;\n",
       "    }\n",
       "</style>\n",
       "<table border=\"1\" class=\"dataframe\">\n",
       "  <thead>\n",
       "    <tr style=\"text-align: right;\">\n",
       "      <th></th>\n",
       "      <th>Purchase ID</th>\n",
       "      <th>SN</th>\n",
       "      <th>Age</th>\n",
       "      <th>Gender</th>\n",
       "      <th>Item ID</th>\n",
       "      <th>Item Name</th>\n",
       "      <th>Price</th>\n",
       "    </tr>\n",
       "  </thead>\n",
       "  <tbody>\n",
       "    <tr>\n",
       "      <th>0</th>\n",
       "      <td>0</td>\n",
       "      <td>Lisim78</td>\n",
       "      <td>20</td>\n",
       "      <td>Male</td>\n",
       "      <td>108</td>\n",
       "      <td>Extraction, Quickblade Of Trembling Hands</td>\n",
       "      <td>3.53</td>\n",
       "    </tr>\n",
       "    <tr>\n",
       "      <th>1</th>\n",
       "      <td>1</td>\n",
       "      <td>Lisovynya38</td>\n",
       "      <td>40</td>\n",
       "      <td>Male</td>\n",
       "      <td>143</td>\n",
       "      <td>Frenzied Scimitar</td>\n",
       "      <td>1.56</td>\n",
       "    </tr>\n",
       "    <tr>\n",
       "      <th>2</th>\n",
       "      <td>2</td>\n",
       "      <td>Ithergue48</td>\n",
       "      <td>24</td>\n",
       "      <td>Male</td>\n",
       "      <td>92</td>\n",
       "      <td>Final Critic</td>\n",
       "      <td>4.88</td>\n",
       "    </tr>\n",
       "    <tr>\n",
       "      <th>3</th>\n",
       "      <td>3</td>\n",
       "      <td>Chamassasya86</td>\n",
       "      <td>24</td>\n",
       "      <td>Male</td>\n",
       "      <td>100</td>\n",
       "      <td>Blindscythe</td>\n",
       "      <td>3.27</td>\n",
       "    </tr>\n",
       "    <tr>\n",
       "      <th>4</th>\n",
       "      <td>4</td>\n",
       "      <td>Iskosia90</td>\n",
       "      <td>23</td>\n",
       "      <td>Male</td>\n",
       "      <td>131</td>\n",
       "      <td>Fury</td>\n",
       "      <td>1.44</td>\n",
       "    </tr>\n",
       "    <tr>\n",
       "      <th>...</th>\n",
       "      <td>...</td>\n",
       "      <td>...</td>\n",
       "      <td>...</td>\n",
       "      <td>...</td>\n",
       "      <td>...</td>\n",
       "      <td>...</td>\n",
       "      <td>...</td>\n",
       "    </tr>\n",
       "    <tr>\n",
       "      <th>775</th>\n",
       "      <td>775</td>\n",
       "      <td>Aethedru70</td>\n",
       "      <td>21</td>\n",
       "      <td>Female</td>\n",
       "      <td>60</td>\n",
       "      <td>Wolf</td>\n",
       "      <td>3.54</td>\n",
       "    </tr>\n",
       "    <tr>\n",
       "      <th>776</th>\n",
       "      <td>776</td>\n",
       "      <td>Iral74</td>\n",
       "      <td>21</td>\n",
       "      <td>Male</td>\n",
       "      <td>164</td>\n",
       "      <td>Exiled Doomblade</td>\n",
       "      <td>1.63</td>\n",
       "    </tr>\n",
       "    <tr>\n",
       "      <th>777</th>\n",
       "      <td>777</td>\n",
       "      <td>Yathecal72</td>\n",
       "      <td>20</td>\n",
       "      <td>Male</td>\n",
       "      <td>67</td>\n",
       "      <td>Celeste, Incarnation of the Corrupted</td>\n",
       "      <td>3.46</td>\n",
       "    </tr>\n",
       "    <tr>\n",
       "      <th>778</th>\n",
       "      <td>778</td>\n",
       "      <td>Sisur91</td>\n",
       "      <td>7</td>\n",
       "      <td>Male</td>\n",
       "      <td>92</td>\n",
       "      <td>Final Critic</td>\n",
       "      <td>4.19</td>\n",
       "    </tr>\n",
       "    <tr>\n",
       "      <th>779</th>\n",
       "      <td>779</td>\n",
       "      <td>Ennrian78</td>\n",
       "      <td>24</td>\n",
       "      <td>Male</td>\n",
       "      <td>50</td>\n",
       "      <td>Dawn</td>\n",
       "      <td>4.60</td>\n",
       "    </tr>\n",
       "  </tbody>\n",
       "</table>\n",
       "<p>780 rows × 7 columns</p>\n",
       "</div>"
      ],
      "text/plain": [
       "     Purchase ID             SN  Age  Gender  Item ID  \\\n",
       "0              0        Lisim78   20    Male      108   \n",
       "1              1    Lisovynya38   40    Male      143   \n",
       "2              2     Ithergue48   24    Male       92   \n",
       "3              3  Chamassasya86   24    Male      100   \n",
       "4              4      Iskosia90   23    Male      131   \n",
       "..           ...            ...  ...     ...      ...   \n",
       "775          775     Aethedru70   21  Female       60   \n",
       "776          776         Iral74   21    Male      164   \n",
       "777          777     Yathecal72   20    Male       67   \n",
       "778          778        Sisur91    7    Male       92   \n",
       "779          779      Ennrian78   24    Male       50   \n",
       "\n",
       "                                     Item Name  Price  \n",
       "0    Extraction, Quickblade Of Trembling Hands   3.53  \n",
       "1                            Frenzied Scimitar   1.56  \n",
       "2                                 Final Critic   4.88  \n",
       "3                                  Blindscythe   3.27  \n",
       "4                                         Fury   1.44  \n",
       "..                                         ...    ...  \n",
       "775                                       Wolf   3.54  \n",
       "776                           Exiled Doomblade   1.63  \n",
       "777      Celeste, Incarnation of the Corrupted   3.46  \n",
       "778                               Final Critic   4.19  \n",
       "779                                       Dawn   4.60  \n",
       "\n",
       "[780 rows x 7 columns]"
      ]
     },
     "metadata": {},
     "output_type": "display_data"
    }
   ],
   "source": [
    "# Dependencies and Setup\n",
    "import pandas as pd\n",
    "import numpy as np\n",
    "\n",
    "# File to Load (Remember to Change These)\n",
    "purchase_data_file = \"../Resources/purchase_data.csv\"\n",
    "\n",
    "# Read Purchasing File and store into Pandas data frame\n",
    "purchase_df = pd.read_csv(purchase_data_file)\n",
    "display(purchase_df)"
   ]
  },
  {
   "cell_type": "markdown",
   "metadata": {},
   "source": [
    "## Player Count"
   ]
  },
  {
   "cell_type": "markdown",
   "metadata": {},
   "source": [
    "* Display the total number of players\n"
   ]
  },
  {
   "cell_type": "code",
   "execution_count": 16,
   "metadata": {},
   "outputs": [
    {
     "data": {
      "text/plain": [
       "576"
      ]
     },
     "metadata": {},
     "output_type": "display_data"
    }
   ],
   "source": [
    "# calculate the number of unique players in the df based on screen name\n",
    "player_count = len(purchase_df[\"SN\"].unique())\n",
    "display(player_count)"
   ]
  },
  {
   "cell_type": "code",
   "execution_count": 17,
   "metadata": {},
   "outputs": [
    {
     "data": {
      "text/html": [
       "<div>\n",
       "<style scoped>\n",
       "    .dataframe tbody tr th:only-of-type {\n",
       "        vertical-align: middle;\n",
       "    }\n",
       "\n",
       "    .dataframe tbody tr th {\n",
       "        vertical-align: top;\n",
       "    }\n",
       "\n",
       "    .dataframe thead th {\n",
       "        text-align: right;\n",
       "    }\n",
       "</style>\n",
       "<table border=\"1\" class=\"dataframe\">\n",
       "  <thead>\n",
       "    <tr style=\"text-align: right;\">\n",
       "      <th></th>\n",
       "      <th>Total Players</th>\n",
       "    </tr>\n",
       "  </thead>\n",
       "  <tbody>\n",
       "    <tr>\n",
       "      <th>0</th>\n",
       "      <td>576</td>\n",
       "    </tr>\n",
       "  </tbody>\n",
       "</table>\n",
       "</div>"
      ],
      "text/plain": [
       "   Total Players\n",
       "0            576"
      ]
     },
     "metadata": {},
     "output_type": "display_data"
    }
   ],
   "source": [
    "# create summary df\n",
    "pc_summary_df = pd.DataFrame({\"Total Players\": [player_count]})\n",
    "display(pc_summary_df)"
   ]
  },
  {
   "cell_type": "markdown",
   "metadata": {},
   "source": [
    "## Purchasing Analysis (Total)"
   ]
  },
  {
   "cell_type": "markdown",
   "metadata": {},
   "source": [
    "* Run basic calculations to obtain number of unique items, average price, etc.\n",
    "\n",
    "\n",
    "* Create a summary data frame to hold the results\n",
    "\n",
    "\n",
    "* Optional: give the displayed data cleaner formatting\n",
    "\n",
    "\n",
    "* Display the summary data frame\n"
   ]
  },
  {
   "cell_type": "code",
   "execution_count": 18,
   "metadata": {
    "scrolled": false
   },
   "outputs": [
    {
     "data": {
      "text/html": [
       "<style  type=\"text/css\" >\n",
       "</style><table id=\"T_168d1694_9ffc_11eb_a712_3c7d0a05f9d1\" ><thead>    <tr>        <th class=\"blank level0\" ></th>        <th class=\"col_heading level0 col0\" >Number of Unique Items</th>        <th class=\"col_heading level0 col1\" >Average Price</th>        <th class=\"col_heading level0 col2\" >Number of Purchases</th>        <th class=\"col_heading level0 col3\" >Total Revenue</th>    </tr></thead><tbody>\n",
       "                <tr>\n",
       "                        <th id=\"T_168d1694_9ffc_11eb_a712_3c7d0a05f9d1level0_row0\" class=\"row_heading level0 row0\" >0</th>\n",
       "                        <td id=\"T_168d1694_9ffc_11eb_a712_3c7d0a05f9d1row0_col0\" class=\"data row0 col0\" >179</td>\n",
       "                        <td id=\"T_168d1694_9ffc_11eb_a712_3c7d0a05f9d1row0_col1\" class=\"data row0 col1\" >$3.05</td>\n",
       "                        <td id=\"T_168d1694_9ffc_11eb_a712_3c7d0a05f9d1row0_col2\" class=\"data row0 col2\" >780</td>\n",
       "                        <td id=\"T_168d1694_9ffc_11eb_a712_3c7d0a05f9d1row0_col3\" class=\"data row0 col3\" >$2,379.77</td>\n",
       "            </tr>\n",
       "    </tbody></table>"
      ],
      "text/plain": [
       "<pandas.io.formats.style.Styler at 0x7fe7d312bbe0>"
      ]
     },
     "metadata": {},
     "output_type": "display_data"
    }
   ],
   "source": [
    "# calculate number of unique items\n",
    "unique_items = len(purchase_df[\"Item Name\"].unique())\n",
    "unique_items\n",
    "\n",
    "# calculate avg price\n",
    "avg_price = purchase_df[\"Price\"].mean()\n",
    "avg_price = round(avg_price, 2)\n",
    "avg_price\n",
    "\n",
    "# calculate number of purchases\n",
    "number_purchases = len(purchase_df[\"Purchase ID\"])\n",
    "number_purchases\n",
    "\n",
    "# calculate total revenue\n",
    "total_revenue = purchase_df[\"Price\"].sum()\n",
    "total_revenue\n",
    "\n",
    "# create summary df\n",
    "pa_summary_df = pd.DataFrame({\"Number of Unique Items\": [unique_items],\n",
    "                              \"Average Price\": avg_price,\n",
    "                              \"Number of Purchases\": number_purchases,\n",
    "                              \"Total Revenue\": total_revenue\n",
    "                             })\n",
    "display(pa_summary_df.style.format({\"Average Price\": \"${:,.2f}\",\n",
    "                           \"Total Revenue\": \"${:,.2f}\"}))"
   ]
  },
  {
   "cell_type": "markdown",
   "metadata": {},
   "source": [
    "## Gender Demographics"
   ]
  },
  {
   "cell_type": "markdown",
   "metadata": {},
   "source": [
    "* Percentage and Count of Male Players\n",
    "\n",
    "\n",
    "* Percentage and Count of Female Players\n",
    "\n",
    "\n",
    "* Percentage and Count of Other / Non-Disclosed\n",
    "\n",
    "\n"
   ]
  },
  {
   "cell_type": "code",
   "execution_count": 19,
   "metadata": {},
   "outputs": [
    {
     "data": {
      "text/html": [
       "<style  type=\"text/css\" >\n",
       "</style><table id=\"T_1d9dfc50_9ffc_11eb_82d1_3c7d0a05f9d1\" ><thead>    <tr>        <th class=\"blank level0\" ></th>        <th class=\"col_heading level0 col0\" >Total Count</th>        <th class=\"col_heading level0 col1\" >Percentage of Players</th>    </tr></thead><tbody>\n",
       "                <tr>\n",
       "                        <th id=\"T_1d9dfc50_9ffc_11eb_82d1_3c7d0a05f9d1level0_row0\" class=\"row_heading level0 row0\" >Male</th>\n",
       "                        <td id=\"T_1d9dfc50_9ffc_11eb_82d1_3c7d0a05f9d1row0_col0\" class=\"data row0 col0\" >484</td>\n",
       "                        <td id=\"T_1d9dfc50_9ffc_11eb_82d1_3c7d0a05f9d1row0_col1\" class=\"data row0 col1\" >84.03%</td>\n",
       "            </tr>\n",
       "            <tr>\n",
       "                        <th id=\"T_1d9dfc50_9ffc_11eb_82d1_3c7d0a05f9d1level0_row1\" class=\"row_heading level0 row1\" >Female</th>\n",
       "                        <td id=\"T_1d9dfc50_9ffc_11eb_82d1_3c7d0a05f9d1row1_col0\" class=\"data row1 col0\" >81</td>\n",
       "                        <td id=\"T_1d9dfc50_9ffc_11eb_82d1_3c7d0a05f9d1row1_col1\" class=\"data row1 col1\" >14.06%</td>\n",
       "            </tr>\n",
       "            <tr>\n",
       "                        <th id=\"T_1d9dfc50_9ffc_11eb_82d1_3c7d0a05f9d1level0_row2\" class=\"row_heading level0 row2\" >Other / Non-Disclosed</th>\n",
       "                        <td id=\"T_1d9dfc50_9ffc_11eb_82d1_3c7d0a05f9d1row2_col0\" class=\"data row2 col0\" >11</td>\n",
       "                        <td id=\"T_1d9dfc50_9ffc_11eb_82d1_3c7d0a05f9d1row2_col1\" class=\"data row2 col1\" >1.91%</td>\n",
       "            </tr>\n",
       "    </tbody></table>"
      ],
      "text/plain": [
       "<pandas.io.formats.style.Styler at 0x7fe7d312b518>"
      ]
     },
     "metadata": {},
     "output_type": "display_data"
    }
   ],
   "source": [
    "# find unique gender values and their total count\n",
    "gender_dems = purchase_df.groupby([\"Gender\"])\n",
    "total_gender_count = gender_dems[\"SN\"].nunique()\n",
    "\n",
    "# find gender percentage of players\n",
    "percent_players_by_gender = (total_gender_count / player_count) * 100\n",
    "\n",
    "# new summary df\n",
    "gender_summary_df = pd.DataFrame({\"Total Count\": total_gender_count,\n",
    "                         \"Percentage of Players\": percent_players_by_gender})\n",
    "\n",
    "# optionally, remove gender column header\n",
    "gender_summary_df.index.name = None\n",
    "\n",
    "# format and sort df\n",
    "display(gender_summary_df.sort_values([\"Total Count\"], ascending = False).style.format({\"Percentage of Players\": \"{:.2f}%\"}))"
   ]
  },
  {
   "cell_type": "markdown",
   "metadata": {},
   "source": [
    "\n",
    "## Purchasing Analysis (Gender)"
   ]
  },
  {
   "cell_type": "markdown",
   "metadata": {},
   "source": [
    "* Run basic calculations to obtain purchase count, avg. purchase price, avg. purchase total per person etc. by gender\n",
    "\n",
    "\n",
    "\n",
    "\n",
    "* Create a summary data frame to hold the results\n",
    "\n",
    "\n",
    "* Optional: give the displayed data cleaner formatting\n",
    "\n",
    "\n",
    "* Display the summary data frame"
   ]
  },
  {
   "cell_type": "code",
   "execution_count": 20,
   "metadata": {},
   "outputs": [
    {
     "data": {
      "text/html": [
       "<style  type=\"text/css\" >\n",
       "</style><table id=\"T_25247666_9ffc_11eb_9760_3c7d0a05f9d1\" ><thead>    <tr>        <th class=\"blank level0\" ></th>        <th class=\"col_heading level0 col0\" >Purchase Count</th>        <th class=\"col_heading level0 col1\" >Average Purchase Price</th>        <th class=\"col_heading level0 col2\" >Total Purchase Value</th>        <th class=\"col_heading level0 col3\" >Average Total Purchase Per Person</th>    </tr></thead><tbody>\n",
       "                <tr>\n",
       "                        <th id=\"T_25247666_9ffc_11eb_9760_3c7d0a05f9d1level0_row0\" class=\"row_heading level0 row0\" >Male</th>\n",
       "                        <td id=\"T_25247666_9ffc_11eb_9760_3c7d0a05f9d1row0_col0\" class=\"data row0 col0\" >652</td>\n",
       "                        <td id=\"T_25247666_9ffc_11eb_9760_3c7d0a05f9d1row0_col1\" class=\"data row0 col1\" >$3.02</td>\n",
       "                        <td id=\"T_25247666_9ffc_11eb_9760_3c7d0a05f9d1row0_col2\" class=\"data row0 col2\" >$1,967.64</td>\n",
       "                        <td id=\"T_25247666_9ffc_11eb_9760_3c7d0a05f9d1row0_col3\" class=\"data row0 col3\" >$4.07</td>\n",
       "            </tr>\n",
       "            <tr>\n",
       "                        <th id=\"T_25247666_9ffc_11eb_9760_3c7d0a05f9d1level0_row1\" class=\"row_heading level0 row1\" >Female</th>\n",
       "                        <td id=\"T_25247666_9ffc_11eb_9760_3c7d0a05f9d1row1_col0\" class=\"data row1 col0\" >113</td>\n",
       "                        <td id=\"T_25247666_9ffc_11eb_9760_3c7d0a05f9d1row1_col1\" class=\"data row1 col1\" >$3.20</td>\n",
       "                        <td id=\"T_25247666_9ffc_11eb_9760_3c7d0a05f9d1row1_col2\" class=\"data row1 col2\" >$361.94</td>\n",
       "                        <td id=\"T_25247666_9ffc_11eb_9760_3c7d0a05f9d1row1_col3\" class=\"data row1 col3\" >$4.47</td>\n",
       "            </tr>\n",
       "            <tr>\n",
       "                        <th id=\"T_25247666_9ffc_11eb_9760_3c7d0a05f9d1level0_row2\" class=\"row_heading level0 row2\" >Other / Non-Disclosed</th>\n",
       "                        <td id=\"T_25247666_9ffc_11eb_9760_3c7d0a05f9d1row2_col0\" class=\"data row2 col0\" >15</td>\n",
       "                        <td id=\"T_25247666_9ffc_11eb_9760_3c7d0a05f9d1row2_col1\" class=\"data row2 col1\" >$3.35</td>\n",
       "                        <td id=\"T_25247666_9ffc_11eb_9760_3c7d0a05f9d1row2_col2\" class=\"data row2 col2\" >$50.19</td>\n",
       "                        <td id=\"T_25247666_9ffc_11eb_9760_3c7d0a05f9d1row2_col3\" class=\"data row2 col3\" >$4.56</td>\n",
       "            </tr>\n",
       "    </tbody></table>"
      ],
      "text/plain": [
       "<pandas.io.formats.style.Styler at 0x7fe7d30aee48>"
      ]
     },
     "metadata": {},
     "output_type": "display_data"
    }
   ],
   "source": [
    "# purchase count\n",
    "purchase_count = gender_dems[\"Purchase ID\"].count()\n",
    "\n",
    "# avg purchase price\n",
    "purchase_price_avg = gender_dems[\"Price\"].mean()\n",
    "\n",
    "# total purchase value\n",
    "total_purchase = gender_dems[\"Price\"].sum()\n",
    "\n",
    "# avg total purchase per person\n",
    "purchase_per_person = (total_purchase / total_gender_count)\n",
    "\n",
    "# summary df\n",
    "pa_gender_summary_df = pd.DataFrame({\"Purchase Count\": purchase_count, \n",
    "                                     \"Average Purchase Price\": purchase_price_avg, \n",
    "                                     \"Total Purchase Value\": total_purchase, \n",
    "                                     \"Average Total Purchase Per Person\": purchase_per_person})\n",
    "\n",
    "# optionally, remove gender column header\n",
    "pa_gender_summary_df.index.name = None\n",
    "\n",
    "# format and sort df\n",
    "display(pa_gender_summary_df.sort_values([\"Purchase Count\"], ascending = False).style.format({\"Average Purchase Price\": \"${:,.2f}\", \n",
    "                                   \"Total Purchase Value\": \"${:,.2f}\", \n",
    "                                   \"Average Total Purchase Per Person\": \"${:,.2f}\"}))"
   ]
  },
  {
   "cell_type": "markdown",
   "metadata": {},
   "source": [
    "## Age Demographics"
   ]
  },
  {
   "cell_type": "markdown",
   "metadata": {},
   "source": [
    "* Establish bins for ages\n",
    "\n",
    "\n",
    "* Categorize the existing players using the age bins. Hint: use pd.cut()\n",
    "\n",
    "\n",
    "* Calculate the numbers and percentages by age group\n",
    "\n",
    "\n",
    "* Create a summary data frame to hold the results\n",
    "\n",
    "\n",
    "* Optional: round the percentage column to two decimal points\n",
    "\n",
    "\n",
    "* Display Age Demographics Table\n"
   ]
  },
  {
   "cell_type": "code",
   "execution_count": 21,
   "metadata": {},
   "outputs": [
    {
     "data": {
      "text/html": [
       "<style  type=\"text/css\" >\n",
       "</style><table id=\"T_2afe5168_9ffc_11eb_ab9b_3c7d0a05f9d1\" ><thead>    <tr>        <th class=\"blank level0\" ></th>        <th class=\"col_heading level0 col0\" >Total Count</th>        <th class=\"col_heading level0 col1\" >Percentage of Players</th>    </tr>    <tr>        <th class=\"index_name level0\" >Age Group</th>        <th class=\"blank\" ></th>        <th class=\"blank\" ></th>    </tr></thead><tbody>\n",
       "                <tr>\n",
       "                        <th id=\"T_2afe5168_9ffc_11eb_ab9b_3c7d0a05f9d1level0_row0\" class=\"row_heading level0 row0\" ><10</th>\n",
       "                        <td id=\"T_2afe5168_9ffc_11eb_ab9b_3c7d0a05f9d1row0_col0\" class=\"data row0 col0\" >17</td>\n",
       "                        <td id=\"T_2afe5168_9ffc_11eb_ab9b_3c7d0a05f9d1row0_col1\" class=\"data row0 col1\" >2.95%</td>\n",
       "            </tr>\n",
       "            <tr>\n",
       "                        <th id=\"T_2afe5168_9ffc_11eb_ab9b_3c7d0a05f9d1level0_row1\" class=\"row_heading level0 row1\" >10-14</th>\n",
       "                        <td id=\"T_2afe5168_9ffc_11eb_ab9b_3c7d0a05f9d1row1_col0\" class=\"data row1 col0\" >22</td>\n",
       "                        <td id=\"T_2afe5168_9ffc_11eb_ab9b_3c7d0a05f9d1row1_col1\" class=\"data row1 col1\" >3.82%</td>\n",
       "            </tr>\n",
       "            <tr>\n",
       "                        <th id=\"T_2afe5168_9ffc_11eb_ab9b_3c7d0a05f9d1level0_row2\" class=\"row_heading level0 row2\" >15-19</th>\n",
       "                        <td id=\"T_2afe5168_9ffc_11eb_ab9b_3c7d0a05f9d1row2_col0\" class=\"data row2 col0\" >107</td>\n",
       "                        <td id=\"T_2afe5168_9ffc_11eb_ab9b_3c7d0a05f9d1row2_col1\" class=\"data row2 col1\" >18.58%</td>\n",
       "            </tr>\n",
       "            <tr>\n",
       "                        <th id=\"T_2afe5168_9ffc_11eb_ab9b_3c7d0a05f9d1level0_row3\" class=\"row_heading level0 row3\" >20-24</th>\n",
       "                        <td id=\"T_2afe5168_9ffc_11eb_ab9b_3c7d0a05f9d1row3_col0\" class=\"data row3 col0\" >258</td>\n",
       "                        <td id=\"T_2afe5168_9ffc_11eb_ab9b_3c7d0a05f9d1row3_col1\" class=\"data row3 col1\" >44.79%</td>\n",
       "            </tr>\n",
       "            <tr>\n",
       "                        <th id=\"T_2afe5168_9ffc_11eb_ab9b_3c7d0a05f9d1level0_row4\" class=\"row_heading level0 row4\" >25-29</th>\n",
       "                        <td id=\"T_2afe5168_9ffc_11eb_ab9b_3c7d0a05f9d1row4_col0\" class=\"data row4 col0\" >77</td>\n",
       "                        <td id=\"T_2afe5168_9ffc_11eb_ab9b_3c7d0a05f9d1row4_col1\" class=\"data row4 col1\" >13.37%</td>\n",
       "            </tr>\n",
       "            <tr>\n",
       "                        <th id=\"T_2afe5168_9ffc_11eb_ab9b_3c7d0a05f9d1level0_row5\" class=\"row_heading level0 row5\" >30-34</th>\n",
       "                        <td id=\"T_2afe5168_9ffc_11eb_ab9b_3c7d0a05f9d1row5_col0\" class=\"data row5 col0\" >52</td>\n",
       "                        <td id=\"T_2afe5168_9ffc_11eb_ab9b_3c7d0a05f9d1row5_col1\" class=\"data row5 col1\" >9.03%</td>\n",
       "            </tr>\n",
       "            <tr>\n",
       "                        <th id=\"T_2afe5168_9ffc_11eb_ab9b_3c7d0a05f9d1level0_row6\" class=\"row_heading level0 row6\" >35-39</th>\n",
       "                        <td id=\"T_2afe5168_9ffc_11eb_ab9b_3c7d0a05f9d1row6_col0\" class=\"data row6 col0\" >31</td>\n",
       "                        <td id=\"T_2afe5168_9ffc_11eb_ab9b_3c7d0a05f9d1row6_col1\" class=\"data row6 col1\" >5.38%</td>\n",
       "            </tr>\n",
       "            <tr>\n",
       "                        <th id=\"T_2afe5168_9ffc_11eb_ab9b_3c7d0a05f9d1level0_row7\" class=\"row_heading level0 row7\" >40+</th>\n",
       "                        <td id=\"T_2afe5168_9ffc_11eb_ab9b_3c7d0a05f9d1row7_col0\" class=\"data row7 col0\" >12</td>\n",
       "                        <td id=\"T_2afe5168_9ffc_11eb_ab9b_3c7d0a05f9d1row7_col1\" class=\"data row7 col1\" >2.08%</td>\n",
       "            </tr>\n",
       "    </tbody></table>"
      ],
      "text/plain": [
       "<pandas.io.formats.style.Styler at 0x7fe7d3052080>"
      ]
     },
     "metadata": {},
     "output_type": "display_data"
    }
   ],
   "source": [
    "# create bins and add labels\n",
    "age_bins = [0, 9.9, 14.9, 19.9, 24.9, 29.9, 34.9, 39.9, 99]\n",
    "\n",
    "bin_labels = [\"<10\", \"10-14\", \"15-19\", \"20-24\", \"25-29\", \"30-34\", \"35-39\", \"40+\"]\n",
    "\n",
    "# slice data and place into bins\n",
    "purchase_df[\"Age Group\"] = pd.cut(purchase_df[\"Age\"], age_bins, labels=bin_labels)\n",
    "\n",
    "# numbers by age group\n",
    "age_group = purchase_df.groupby([\"Age Group\"])\n",
    "total_players_by_age = age_group[\"SN\"].nunique()\n",
    "\n",
    "# percentages by age group\n",
    "total_percent_by_age = (total_players_by_age / player_count) * 100\n",
    "\n",
    "# new summary df\n",
    "age_dems_summary_df = pd.DataFrame({\"Total Count\": total_players_by_age,\n",
    "                                   \"Percentage of Players\": total_percent_by_age})\n",
    "# format df\n",
    "display(age_dems_summary_df.style.format({\"Percentage of Players\": \"{:,.2f}%\"}))"
   ]
  },
  {
   "cell_type": "markdown",
   "metadata": {},
   "source": [
    "## Purchasing Analysis (Age)"
   ]
  },
  {
   "cell_type": "markdown",
   "metadata": {},
   "source": [
    "* Bin the purchase_data data frame by age\n",
    "\n",
    "\n",
    "* Run basic calculations to obtain purchase count, avg. purchase price, avg. purchase total per person etc. in the table below\n",
    "\n",
    "\n",
    "* Create a summary data frame to hold the results\n",
    "\n",
    "\n",
    "* Optional: give the displayed data cleaner formatting\n",
    "\n",
    "\n",
    "* Display the summary data frame"
   ]
  },
  {
   "cell_type": "code",
   "execution_count": 22,
   "metadata": {},
   "outputs": [
    {
     "data": {
      "text/html": [
       "<style  type=\"text/css\" >\n",
       "</style><table id=\"T_30b93c98_9ffc_11eb_8ba6_3c7d0a05f9d1\" ><thead>    <tr>        <th class=\"blank level0\" ></th>        <th class=\"col_heading level0 col0\" >Purchase Count</th>        <th class=\"col_heading level0 col1\" >Average Purchase Price</th>        <th class=\"col_heading level0 col2\" >Total Purchase Value</th>        <th class=\"col_heading level0 col3\" >Avg Total Purchase Per Person</th>    </tr>    <tr>        <th class=\"index_name level0\" >Age Group</th>        <th class=\"blank\" ></th>        <th class=\"blank\" ></th>        <th class=\"blank\" ></th>        <th class=\"blank\" ></th>    </tr></thead><tbody>\n",
       "                <tr>\n",
       "                        <th id=\"T_30b93c98_9ffc_11eb_8ba6_3c7d0a05f9d1level0_row0\" class=\"row_heading level0 row0\" ><10</th>\n",
       "                        <td id=\"T_30b93c98_9ffc_11eb_8ba6_3c7d0a05f9d1row0_col0\" class=\"data row0 col0\" >23</td>\n",
       "                        <td id=\"T_30b93c98_9ffc_11eb_8ba6_3c7d0a05f9d1row0_col1\" class=\"data row0 col1\" >$3.35</td>\n",
       "                        <td id=\"T_30b93c98_9ffc_11eb_8ba6_3c7d0a05f9d1row0_col2\" class=\"data row0 col2\" >$77.13</td>\n",
       "                        <td id=\"T_30b93c98_9ffc_11eb_8ba6_3c7d0a05f9d1row0_col3\" class=\"data row0 col3\" >$4.54</td>\n",
       "            </tr>\n",
       "            <tr>\n",
       "                        <th id=\"T_30b93c98_9ffc_11eb_8ba6_3c7d0a05f9d1level0_row1\" class=\"row_heading level0 row1\" >10-14</th>\n",
       "                        <td id=\"T_30b93c98_9ffc_11eb_8ba6_3c7d0a05f9d1row1_col0\" class=\"data row1 col0\" >28</td>\n",
       "                        <td id=\"T_30b93c98_9ffc_11eb_8ba6_3c7d0a05f9d1row1_col1\" class=\"data row1 col1\" >$2.96</td>\n",
       "                        <td id=\"T_30b93c98_9ffc_11eb_8ba6_3c7d0a05f9d1row1_col2\" class=\"data row1 col2\" >$82.78</td>\n",
       "                        <td id=\"T_30b93c98_9ffc_11eb_8ba6_3c7d0a05f9d1row1_col3\" class=\"data row1 col3\" >$3.76</td>\n",
       "            </tr>\n",
       "            <tr>\n",
       "                        <th id=\"T_30b93c98_9ffc_11eb_8ba6_3c7d0a05f9d1level0_row2\" class=\"row_heading level0 row2\" >15-19</th>\n",
       "                        <td id=\"T_30b93c98_9ffc_11eb_8ba6_3c7d0a05f9d1row2_col0\" class=\"data row2 col0\" >136</td>\n",
       "                        <td id=\"T_30b93c98_9ffc_11eb_8ba6_3c7d0a05f9d1row2_col1\" class=\"data row2 col1\" >$3.04</td>\n",
       "                        <td id=\"T_30b93c98_9ffc_11eb_8ba6_3c7d0a05f9d1row2_col2\" class=\"data row2 col2\" >$412.89</td>\n",
       "                        <td id=\"T_30b93c98_9ffc_11eb_8ba6_3c7d0a05f9d1row2_col3\" class=\"data row2 col3\" >$3.86</td>\n",
       "            </tr>\n",
       "            <tr>\n",
       "                        <th id=\"T_30b93c98_9ffc_11eb_8ba6_3c7d0a05f9d1level0_row3\" class=\"row_heading level0 row3\" >20-24</th>\n",
       "                        <td id=\"T_30b93c98_9ffc_11eb_8ba6_3c7d0a05f9d1row3_col0\" class=\"data row3 col0\" >365</td>\n",
       "                        <td id=\"T_30b93c98_9ffc_11eb_8ba6_3c7d0a05f9d1row3_col1\" class=\"data row3 col1\" >$3.05</td>\n",
       "                        <td id=\"T_30b93c98_9ffc_11eb_8ba6_3c7d0a05f9d1row3_col2\" class=\"data row3 col2\" >$1,114.06</td>\n",
       "                        <td id=\"T_30b93c98_9ffc_11eb_8ba6_3c7d0a05f9d1row3_col3\" class=\"data row3 col3\" >$4.32</td>\n",
       "            </tr>\n",
       "            <tr>\n",
       "                        <th id=\"T_30b93c98_9ffc_11eb_8ba6_3c7d0a05f9d1level0_row4\" class=\"row_heading level0 row4\" >25-29</th>\n",
       "                        <td id=\"T_30b93c98_9ffc_11eb_8ba6_3c7d0a05f9d1row4_col0\" class=\"data row4 col0\" >101</td>\n",
       "                        <td id=\"T_30b93c98_9ffc_11eb_8ba6_3c7d0a05f9d1row4_col1\" class=\"data row4 col1\" >$2.90</td>\n",
       "                        <td id=\"T_30b93c98_9ffc_11eb_8ba6_3c7d0a05f9d1row4_col2\" class=\"data row4 col2\" >$293.00</td>\n",
       "                        <td id=\"T_30b93c98_9ffc_11eb_8ba6_3c7d0a05f9d1row4_col3\" class=\"data row4 col3\" >$3.81</td>\n",
       "            </tr>\n",
       "            <tr>\n",
       "                        <th id=\"T_30b93c98_9ffc_11eb_8ba6_3c7d0a05f9d1level0_row5\" class=\"row_heading level0 row5\" >30-34</th>\n",
       "                        <td id=\"T_30b93c98_9ffc_11eb_8ba6_3c7d0a05f9d1row5_col0\" class=\"data row5 col0\" >73</td>\n",
       "                        <td id=\"T_30b93c98_9ffc_11eb_8ba6_3c7d0a05f9d1row5_col1\" class=\"data row5 col1\" >$2.93</td>\n",
       "                        <td id=\"T_30b93c98_9ffc_11eb_8ba6_3c7d0a05f9d1row5_col2\" class=\"data row5 col2\" >$214.00</td>\n",
       "                        <td id=\"T_30b93c98_9ffc_11eb_8ba6_3c7d0a05f9d1row5_col3\" class=\"data row5 col3\" >$4.12</td>\n",
       "            </tr>\n",
       "            <tr>\n",
       "                        <th id=\"T_30b93c98_9ffc_11eb_8ba6_3c7d0a05f9d1level0_row6\" class=\"row_heading level0 row6\" >35-39</th>\n",
       "                        <td id=\"T_30b93c98_9ffc_11eb_8ba6_3c7d0a05f9d1row6_col0\" class=\"data row6 col0\" >41</td>\n",
       "                        <td id=\"T_30b93c98_9ffc_11eb_8ba6_3c7d0a05f9d1row6_col1\" class=\"data row6 col1\" >$3.60</td>\n",
       "                        <td id=\"T_30b93c98_9ffc_11eb_8ba6_3c7d0a05f9d1row6_col2\" class=\"data row6 col2\" >$147.67</td>\n",
       "                        <td id=\"T_30b93c98_9ffc_11eb_8ba6_3c7d0a05f9d1row6_col3\" class=\"data row6 col3\" >$4.76</td>\n",
       "            </tr>\n",
       "            <tr>\n",
       "                        <th id=\"T_30b93c98_9ffc_11eb_8ba6_3c7d0a05f9d1level0_row7\" class=\"row_heading level0 row7\" >40+</th>\n",
       "                        <td id=\"T_30b93c98_9ffc_11eb_8ba6_3c7d0a05f9d1row7_col0\" class=\"data row7 col0\" >13</td>\n",
       "                        <td id=\"T_30b93c98_9ffc_11eb_8ba6_3c7d0a05f9d1row7_col1\" class=\"data row7 col1\" >$2.94</td>\n",
       "                        <td id=\"T_30b93c98_9ffc_11eb_8ba6_3c7d0a05f9d1row7_col2\" class=\"data row7 col2\" >$38.24</td>\n",
       "                        <td id=\"T_30b93c98_9ffc_11eb_8ba6_3c7d0a05f9d1row7_col3\" class=\"data row7 col3\" >$3.19</td>\n",
       "            </tr>\n",
       "    </tbody></table>"
      ],
      "text/plain": [
       "<pandas.io.formats.style.Styler at 0x7fe7d0ccbe48>"
      ]
     },
     "metadata": {},
     "output_type": "display_data"
    }
   ],
   "source": [
    "# purchase count\n",
    "purchase_count_age = age_group[\"Purchase ID\"].count()\n",
    "\n",
    "# avg purchase price\n",
    "avg_pur_price_age = age_group[\"Price\"].mean()\n",
    "\n",
    "# total purchase value\n",
    "total_pur_price_age = age_group[\"Price\"].sum()\n",
    "\n",
    "# avg total purchase per person\n",
    "avg_total_pur_age = (total_pur_price_age / total_players_by_age)\n",
    "\n",
    "# summary df\n",
    "age_purchasing_analysis_df = pd.DataFrame({\"Purchase Count\": purchase_count_age,\n",
    "                                          \"Average Purchase Price\": avg_pur_price_age,\n",
    "                                          \"Total Purchase Value\": total_pur_price_age,\n",
    "                                          \"Avg Total Purchase Per Person\": avg_total_pur_age})\n",
    "# format df\n",
    "display(age_purchasing_analysis_df.style.format({\"Average Purchase Price\": \"${:,.2f}\",\n",
    "                                          \"Total Purchase Value\": \"${:,.2f}\",\n",
    "                                          \"Avg Total Purchase Per Person\": \"${:,.2f}\"}))"
   ]
  },
  {
   "cell_type": "markdown",
   "metadata": {},
   "source": [
    "## Top Spenders"
   ]
  },
  {
   "cell_type": "markdown",
   "metadata": {},
   "source": [
    "* Run basic calculations to obtain the results in the table below\n",
    "\n",
    "\n",
    "* Create a summary data frame to hold the results\n",
    "\n",
    "\n",
    "* Sort the total purchase value column in descending order\n",
    "\n",
    "\n",
    "* Optional: give the displayed data cleaner formatting\n",
    "\n",
    "\n",
    "* Display a preview of the summary data frame\n",
    "\n"
   ]
  },
  {
   "cell_type": "code",
   "execution_count": 23,
   "metadata": {},
   "outputs": [
    {
     "data": {
      "text/html": [
       "<style  type=\"text/css\" >\n",
       "</style><table id=\"T_3762ce0c_9ffc_11eb_ba80_3c7d0a05f9d1\" ><thead>    <tr>        <th class=\"blank level0\" ></th>        <th class=\"col_heading level0 col0\" >Purchase Count</th>        <th class=\"col_heading level0 col1\" >Average Purchase Price</th>        <th class=\"col_heading level0 col2\" >Total Purchase Value</th>    </tr>    <tr>        <th class=\"index_name level0\" >SN</th>        <th class=\"blank\" ></th>        <th class=\"blank\" ></th>        <th class=\"blank\" ></th>    </tr></thead><tbody>\n",
       "                <tr>\n",
       "                        <th id=\"T_3762ce0c_9ffc_11eb_ba80_3c7d0a05f9d1level0_row0\" class=\"row_heading level0 row0\" >Lisosia93</th>\n",
       "                        <td id=\"T_3762ce0c_9ffc_11eb_ba80_3c7d0a05f9d1row0_col0\" class=\"data row0 col0\" >5</td>\n",
       "                        <td id=\"T_3762ce0c_9ffc_11eb_ba80_3c7d0a05f9d1row0_col1\" class=\"data row0 col1\" >$3.79</td>\n",
       "                        <td id=\"T_3762ce0c_9ffc_11eb_ba80_3c7d0a05f9d1row0_col2\" class=\"data row0 col2\" >$18.96</td>\n",
       "            </tr>\n",
       "            <tr>\n",
       "                        <th id=\"T_3762ce0c_9ffc_11eb_ba80_3c7d0a05f9d1level0_row1\" class=\"row_heading level0 row1\" >Idastidru52</th>\n",
       "                        <td id=\"T_3762ce0c_9ffc_11eb_ba80_3c7d0a05f9d1row1_col0\" class=\"data row1 col0\" >4</td>\n",
       "                        <td id=\"T_3762ce0c_9ffc_11eb_ba80_3c7d0a05f9d1row1_col1\" class=\"data row1 col1\" >$3.86</td>\n",
       "                        <td id=\"T_3762ce0c_9ffc_11eb_ba80_3c7d0a05f9d1row1_col2\" class=\"data row1 col2\" >$15.45</td>\n",
       "            </tr>\n",
       "            <tr>\n",
       "                        <th id=\"T_3762ce0c_9ffc_11eb_ba80_3c7d0a05f9d1level0_row2\" class=\"row_heading level0 row2\" >Chamjask73</th>\n",
       "                        <td id=\"T_3762ce0c_9ffc_11eb_ba80_3c7d0a05f9d1row2_col0\" class=\"data row2 col0\" >3</td>\n",
       "                        <td id=\"T_3762ce0c_9ffc_11eb_ba80_3c7d0a05f9d1row2_col1\" class=\"data row2 col1\" >$4.61</td>\n",
       "                        <td id=\"T_3762ce0c_9ffc_11eb_ba80_3c7d0a05f9d1row2_col2\" class=\"data row2 col2\" >$13.83</td>\n",
       "            </tr>\n",
       "            <tr>\n",
       "                        <th id=\"T_3762ce0c_9ffc_11eb_ba80_3c7d0a05f9d1level0_row3\" class=\"row_heading level0 row3\" >Iral74</th>\n",
       "                        <td id=\"T_3762ce0c_9ffc_11eb_ba80_3c7d0a05f9d1row3_col0\" class=\"data row3 col0\" >4</td>\n",
       "                        <td id=\"T_3762ce0c_9ffc_11eb_ba80_3c7d0a05f9d1row3_col1\" class=\"data row3 col1\" >$3.40</td>\n",
       "                        <td id=\"T_3762ce0c_9ffc_11eb_ba80_3c7d0a05f9d1row3_col2\" class=\"data row3 col2\" >$13.62</td>\n",
       "            </tr>\n",
       "            <tr>\n",
       "                        <th id=\"T_3762ce0c_9ffc_11eb_ba80_3c7d0a05f9d1level0_row4\" class=\"row_heading level0 row4\" >Iskadarya95</th>\n",
       "                        <td id=\"T_3762ce0c_9ffc_11eb_ba80_3c7d0a05f9d1row4_col0\" class=\"data row4 col0\" >3</td>\n",
       "                        <td id=\"T_3762ce0c_9ffc_11eb_ba80_3c7d0a05f9d1row4_col1\" class=\"data row4 col1\" >$4.37</td>\n",
       "                        <td id=\"T_3762ce0c_9ffc_11eb_ba80_3c7d0a05f9d1row4_col2\" class=\"data row4 col2\" >$13.10</td>\n",
       "            </tr>\n",
       "    </tbody></table>"
      ],
      "text/plain": [
       "<pandas.io.formats.style.Styler at 0x7fe7d3078c18>"
      ]
     },
     "metadata": {},
     "output_type": "display_data"
    }
   ],
   "source": [
    "# group original purchase data by SN \n",
    "top_spender_stats = purchase_df.groupby([\"SN\"])\n",
    "\n",
    "# purchase count\n",
    "purchase_count = top_spender_stats[\"Purchase ID\"].count()\n",
    "\n",
    "# average purchase price\n",
    "avg_purchase = top_spender_stats[\"Price\"].mean()\n",
    "\n",
    "# total purchase value\n",
    "total_purchase = top_spender_stats[\"Price\"].sum()\n",
    "\n",
    "# summary df\n",
    "top_spenders_df = pd.DataFrame({\"Purchase Count\": purchase_count,\n",
    "                               \"Average Purchase Price\": avg_purchase,\n",
    "                               \"Total Purchase Value\": total_purchase})\n",
    "# sort and format df\n",
    "formatted_top_spenders_df = top_spenders_df.sort_values([\"Total Purchase Value\"], ascending = False).head()\n",
    "display(formatted_top_spenders_df.style.format({\"Average Purchase Price\": \"${:,.2f}\",\n",
    "                                       \"Total Purchase Value\": \"${:,.2f}\"}))"
   ]
  },
  {
   "cell_type": "markdown",
   "metadata": {},
   "source": [
    "## Most Popular Items"
   ]
  },
  {
   "cell_type": "markdown",
   "metadata": {},
   "source": [
    "* Retrieve the Item ID, Item Name, and Item Price columns\n",
    "\n",
    "\n",
    "* Group by Item ID and Item Name. Perform calculations to obtain purchase count, average item price, and total purchase value\n",
    "\n",
    "\n",
    "* Create a summary data frame to hold the results\n",
    "\n",
    "\n",
    "* Sort the purchase count column in descending order\n",
    "\n",
    "\n",
    "* Optional: give the displayed data cleaner formatting\n",
    "\n",
    "\n",
    "* Display a preview of the summary data frame\n",
    "\n"
   ]
  },
  {
   "cell_type": "code",
   "execution_count": 24,
   "metadata": {},
   "outputs": [
    {
     "data": {
      "text/html": [
       "<style  type=\"text/css\" >\n",
       "</style><table id=\"T_3de52f58_9ffc_11eb_aee7_3c7d0a05f9d1\" ><thead>    <tr>        <th class=\"blank\" ></th>        <th class=\"blank level0\" ></th>        <th class=\"col_heading level0 col0\" >Purchase Count</th>        <th class=\"col_heading level0 col1\" >Average Item Price</th>        <th class=\"col_heading level0 col2\" >Total Purchase Value</th>    </tr>    <tr>        <th class=\"index_name level0\" >Item ID</th>        <th class=\"index_name level1\" >Item Name</th>        <th class=\"blank\" ></th>        <th class=\"blank\" ></th>        <th class=\"blank\" ></th>    </tr></thead><tbody>\n",
       "                <tr>\n",
       "                        <th id=\"T_3de52f58_9ffc_11eb_aee7_3c7d0a05f9d1level0_row0\" class=\"row_heading level0 row0\" >92</th>\n",
       "                        <th id=\"T_3de52f58_9ffc_11eb_aee7_3c7d0a05f9d1level1_row0\" class=\"row_heading level1 row0\" >Final Critic</th>\n",
       "                        <td id=\"T_3de52f58_9ffc_11eb_aee7_3c7d0a05f9d1row0_col0\" class=\"data row0 col0\" >13</td>\n",
       "                        <td id=\"T_3de52f58_9ffc_11eb_aee7_3c7d0a05f9d1row0_col1\" class=\"data row0 col1\" >$4.61</td>\n",
       "                        <td id=\"T_3de52f58_9ffc_11eb_aee7_3c7d0a05f9d1row0_col2\" class=\"data row0 col2\" >$59.99</td>\n",
       "            </tr>\n",
       "            <tr>\n",
       "                        <th id=\"T_3de52f58_9ffc_11eb_aee7_3c7d0a05f9d1level0_row1\" class=\"row_heading level0 row1\" >178</th>\n",
       "                        <th id=\"T_3de52f58_9ffc_11eb_aee7_3c7d0a05f9d1level1_row1\" class=\"row_heading level1 row1\" >Oathbreaker, Last Hope of the Breaking Storm</th>\n",
       "                        <td id=\"T_3de52f58_9ffc_11eb_aee7_3c7d0a05f9d1row1_col0\" class=\"data row1 col0\" >12</td>\n",
       "                        <td id=\"T_3de52f58_9ffc_11eb_aee7_3c7d0a05f9d1row1_col1\" class=\"data row1 col1\" >$4.23</td>\n",
       "                        <td id=\"T_3de52f58_9ffc_11eb_aee7_3c7d0a05f9d1row1_col2\" class=\"data row1 col2\" >$50.76</td>\n",
       "            </tr>\n",
       "            <tr>\n",
       "                        <th id=\"T_3de52f58_9ffc_11eb_aee7_3c7d0a05f9d1level0_row2\" class=\"row_heading level0 row2\" >145</th>\n",
       "                        <th id=\"T_3de52f58_9ffc_11eb_aee7_3c7d0a05f9d1level1_row2\" class=\"row_heading level1 row2\" >Fiery Glass Crusader</th>\n",
       "                        <td id=\"T_3de52f58_9ffc_11eb_aee7_3c7d0a05f9d1row2_col0\" class=\"data row2 col0\" >9</td>\n",
       "                        <td id=\"T_3de52f58_9ffc_11eb_aee7_3c7d0a05f9d1row2_col1\" class=\"data row2 col1\" >$4.58</td>\n",
       "                        <td id=\"T_3de52f58_9ffc_11eb_aee7_3c7d0a05f9d1row2_col2\" class=\"data row2 col2\" >$41.22</td>\n",
       "            </tr>\n",
       "            <tr>\n",
       "                        <th id=\"T_3de52f58_9ffc_11eb_aee7_3c7d0a05f9d1level0_row3\" class=\"row_heading level0 row3\" >132</th>\n",
       "                        <th id=\"T_3de52f58_9ffc_11eb_aee7_3c7d0a05f9d1level1_row3\" class=\"row_heading level1 row3\" >Persuasion</th>\n",
       "                        <td id=\"T_3de52f58_9ffc_11eb_aee7_3c7d0a05f9d1row3_col0\" class=\"data row3 col0\" >9</td>\n",
       "                        <td id=\"T_3de52f58_9ffc_11eb_aee7_3c7d0a05f9d1row3_col1\" class=\"data row3 col1\" >$3.22</td>\n",
       "                        <td id=\"T_3de52f58_9ffc_11eb_aee7_3c7d0a05f9d1row3_col2\" class=\"data row3 col2\" >$28.99</td>\n",
       "            </tr>\n",
       "            <tr>\n",
       "                        <th id=\"T_3de52f58_9ffc_11eb_aee7_3c7d0a05f9d1level0_row4\" class=\"row_heading level0 row4\" >108</th>\n",
       "                        <th id=\"T_3de52f58_9ffc_11eb_aee7_3c7d0a05f9d1level1_row4\" class=\"row_heading level1 row4\" >Extraction, Quickblade Of Trembling Hands</th>\n",
       "                        <td id=\"T_3de52f58_9ffc_11eb_aee7_3c7d0a05f9d1row4_col0\" class=\"data row4 col0\" >9</td>\n",
       "                        <td id=\"T_3de52f58_9ffc_11eb_aee7_3c7d0a05f9d1row4_col1\" class=\"data row4 col1\" >$3.53</td>\n",
       "                        <td id=\"T_3de52f58_9ffc_11eb_aee7_3c7d0a05f9d1row4_col2\" class=\"data row4 col2\" >$31.77</td>\n",
       "            </tr>\n",
       "    </tbody></table>"
      ],
      "text/plain": [
       "<pandas.io.formats.style.Styler at 0x7fe7d1d8f630>"
      ]
     },
     "metadata": {},
     "output_type": "display_data"
    }
   ],
   "source": [
    "# retrieve 3 columns needed and create new df\n",
    "item_df = purchase_df[[\"Item ID\", \"Item Name\", \"Price\"]]\n",
    "\n",
    "# group by item ID and item name\n",
    "items = item_df.groupby([\"Item ID\", \"Item Name\"])\n",
    "\n",
    "# calculate purchase count\n",
    "purchase_count = items[\"Price\"].count()\n",
    "\n",
    "# calculate total purchase value and avg item price\n",
    "total_value = items[\"Price\"].sum()\n",
    "\n",
    "avg_item_price = (total_value / purchase_count)\n",
    "\n",
    "# summary df\n",
    "most_popular = pd.DataFrame({\"Purchase Count\": purchase_count, \"Average Item Price\": avg_item_price, \"Total Purchase Value\": total_value})\n",
    "\n",
    "# sort df by purchase count in descending order, then format\n",
    "formatted_most_popular = most_popular.sort_values([\"Purchase Count\"], ascending = False).head()\n",
    "display(formatted_most_popular.style.format({\"Average Item Price\": \"${:,.2f}\", \"Total Purchase Value\": \"${:,.2f}\"}))"
   ]
  },
  {
   "cell_type": "markdown",
   "metadata": {},
   "source": [
    "## Most Profitable Items"
   ]
  },
  {
   "cell_type": "markdown",
   "metadata": {},
   "source": [
    "* Sort the above table by total purchase value in descending order\n",
    "\n",
    "\n",
    "* Optional: give the displayed data cleaner formatting\n",
    "\n",
    "\n",
    "* Display a preview of the data frame\n",
    "\n"
   ]
  },
  {
   "cell_type": "code",
   "execution_count": 25,
   "metadata": {
    "scrolled": true
   },
   "outputs": [
    {
     "data": {
      "text/html": [
       "<style  type=\"text/css\" >\n",
       "</style><table id=\"T_3f72388c_9ffc_11eb_8e39_3c7d0a05f9d1\" ><thead>    <tr>        <th class=\"blank\" ></th>        <th class=\"blank level0\" ></th>        <th class=\"col_heading level0 col0\" >Purchase Count</th>        <th class=\"col_heading level0 col1\" >Average Item Price</th>        <th class=\"col_heading level0 col2\" >Total Purchase Value</th>    </tr>    <tr>        <th class=\"index_name level0\" >Item ID</th>        <th class=\"index_name level1\" >Item Name</th>        <th class=\"blank\" ></th>        <th class=\"blank\" ></th>        <th class=\"blank\" ></th>    </tr></thead><tbody>\n",
       "                <tr>\n",
       "                        <th id=\"T_3f72388c_9ffc_11eb_8e39_3c7d0a05f9d1level0_row0\" class=\"row_heading level0 row0\" >92</th>\n",
       "                        <th id=\"T_3f72388c_9ffc_11eb_8e39_3c7d0a05f9d1level1_row0\" class=\"row_heading level1 row0\" >Final Critic</th>\n",
       "                        <td id=\"T_3f72388c_9ffc_11eb_8e39_3c7d0a05f9d1row0_col0\" class=\"data row0 col0\" >13</td>\n",
       "                        <td id=\"T_3f72388c_9ffc_11eb_8e39_3c7d0a05f9d1row0_col1\" class=\"data row0 col1\" >$4.61</td>\n",
       "                        <td id=\"T_3f72388c_9ffc_11eb_8e39_3c7d0a05f9d1row0_col2\" class=\"data row0 col2\" >$59.99</td>\n",
       "            </tr>\n",
       "            <tr>\n",
       "                        <th id=\"T_3f72388c_9ffc_11eb_8e39_3c7d0a05f9d1level0_row1\" class=\"row_heading level0 row1\" >178</th>\n",
       "                        <th id=\"T_3f72388c_9ffc_11eb_8e39_3c7d0a05f9d1level1_row1\" class=\"row_heading level1 row1\" >Oathbreaker, Last Hope of the Breaking Storm</th>\n",
       "                        <td id=\"T_3f72388c_9ffc_11eb_8e39_3c7d0a05f9d1row1_col0\" class=\"data row1 col0\" >12</td>\n",
       "                        <td id=\"T_3f72388c_9ffc_11eb_8e39_3c7d0a05f9d1row1_col1\" class=\"data row1 col1\" >$4.23</td>\n",
       "                        <td id=\"T_3f72388c_9ffc_11eb_8e39_3c7d0a05f9d1row1_col2\" class=\"data row1 col2\" >$50.76</td>\n",
       "            </tr>\n",
       "            <tr>\n",
       "                        <th id=\"T_3f72388c_9ffc_11eb_8e39_3c7d0a05f9d1level0_row2\" class=\"row_heading level0 row2\" >82</th>\n",
       "                        <th id=\"T_3f72388c_9ffc_11eb_8e39_3c7d0a05f9d1level1_row2\" class=\"row_heading level1 row2\" >Nirvana</th>\n",
       "                        <td id=\"T_3f72388c_9ffc_11eb_8e39_3c7d0a05f9d1row2_col0\" class=\"data row2 col0\" >9</td>\n",
       "                        <td id=\"T_3f72388c_9ffc_11eb_8e39_3c7d0a05f9d1row2_col1\" class=\"data row2 col1\" >$4.90</td>\n",
       "                        <td id=\"T_3f72388c_9ffc_11eb_8e39_3c7d0a05f9d1row2_col2\" class=\"data row2 col2\" >$44.10</td>\n",
       "            </tr>\n",
       "            <tr>\n",
       "                        <th id=\"T_3f72388c_9ffc_11eb_8e39_3c7d0a05f9d1level0_row3\" class=\"row_heading level0 row3\" >145</th>\n",
       "                        <th id=\"T_3f72388c_9ffc_11eb_8e39_3c7d0a05f9d1level1_row3\" class=\"row_heading level1 row3\" >Fiery Glass Crusader</th>\n",
       "                        <td id=\"T_3f72388c_9ffc_11eb_8e39_3c7d0a05f9d1row3_col0\" class=\"data row3 col0\" >9</td>\n",
       "                        <td id=\"T_3f72388c_9ffc_11eb_8e39_3c7d0a05f9d1row3_col1\" class=\"data row3 col1\" >$4.58</td>\n",
       "                        <td id=\"T_3f72388c_9ffc_11eb_8e39_3c7d0a05f9d1row3_col2\" class=\"data row3 col2\" >$41.22</td>\n",
       "            </tr>\n",
       "            <tr>\n",
       "                        <th id=\"T_3f72388c_9ffc_11eb_8e39_3c7d0a05f9d1level0_row4\" class=\"row_heading level0 row4\" >103</th>\n",
       "                        <th id=\"T_3f72388c_9ffc_11eb_8e39_3c7d0a05f9d1level1_row4\" class=\"row_heading level1 row4\" >Singed Scalpel</th>\n",
       "                        <td id=\"T_3f72388c_9ffc_11eb_8e39_3c7d0a05f9d1row4_col0\" class=\"data row4 col0\" >8</td>\n",
       "                        <td id=\"T_3f72388c_9ffc_11eb_8e39_3c7d0a05f9d1row4_col1\" class=\"data row4 col1\" >$4.35</td>\n",
       "                        <td id=\"T_3f72388c_9ffc_11eb_8e39_3c7d0a05f9d1row4_col2\" class=\"data row4 col2\" >$34.80</td>\n",
       "            </tr>\n",
       "    </tbody></table>"
      ],
      "text/plain": [
       "<pandas.io.formats.style.Styler at 0x7fe7d3117e48>"
      ]
     },
     "metadata": {},
     "output_type": "display_data"
    }
   ],
   "source": [
    "# change sort value to sort by total purchase value, to find the most profitable item\n",
    "formatted_most_popular = most_popular.sort_values([\"Total Purchase Value\"], ascending = False).head()\n",
    "display(formatted_most_popular.style.format({\"Average Item Price\": \"${:,.2f}\", \"Total Purchase Value\": \"${:,.2f}\"}))"
   ]
  },
  {
   "cell_type": "code",
   "execution_count": null,
   "metadata": {},
   "outputs": [],
   "source": []
  }
 ],
 "metadata": {
  "anaconda-cloud": {},
  "kernel_info": {
   "name": "python3"
  },
  "kernelspec": {
   "display_name": "Python [conda env:My_Python_Env] *",
   "language": "python",
   "name": "conda-env-My_Python_Env-py"
  },
  "language_info": {
   "codemirror_mode": {
    "name": "ipython",
    "version": 3
   },
   "file_extension": ".py",
   "mimetype": "text/x-python",
   "name": "python",
   "nbconvert_exporter": "python",
   "pygments_lexer": "ipython3",
   "version": "3.6.10"
  },
  "latex_envs": {
   "LaTeX_envs_menu_present": true,
   "autoclose": false,
   "autocomplete": true,
   "bibliofile": "biblio.bib",
   "cite_by": "apalike",
   "current_citInitial": 1,
   "eqLabelWithNumbers": true,
   "eqNumInitial": 1,
   "hotkeys": {
    "equation": "Ctrl-E",
    "itemize": "Ctrl-I"
   },
   "labels_anchors": false,
   "latex_user_defs": false,
   "report_style_numbering": false,
   "user_envs_cfg": false
  },
  "nteract": {
   "version": "0.2.0"
  }
 },
 "nbformat": 4,
 "nbformat_minor": 2
}
